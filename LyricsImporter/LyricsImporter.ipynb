{
  "cells": [
    {
      "cell_type": "code",
      "execution_count": 1,
      "metadata": {
        "colab": {
          "base_uri": "https://localhost:8080/"
        },
        "id": "jN0IUEABMj7s",
        "outputId": "3dea9350-4dff-4664-91dd-e7e1ee0feeb1"
      },
      "outputs": [],
      "source": [
        "import pandas as pd\n",
        "\n",
        "path1 = \"./Folk.csv\"\n",
        "path2 = \"./folk_songs_all_100.csv\"\n",
        "df1 = pd.read_csv(path1)\n",
        "df2 = pd.read_csv(path2)"
      ]
    },
    {
      "cell_type": "code",
      "execution_count": 2,
      "metadata": {
        "colab": {
          "base_uri": "https://localhost:8080/",
          "height": 145
        },
        "id": "d7T3HnihRksJ",
        "outputId": "51574c00-32e6-4aeb-b5aa-9411c82baff9"
      },
      "outputs": [
        {
          "data": {
            "text/plain": [
              "track_name\n",
              "False    106\n",
              "Name: count, dtype: int64"
            ]
          },
          "execution_count": 2,
          "metadata": {},
          "output_type": "execute_result"
        }
      ],
      "source": [
        "\n",
        "# check any of value in the track_name column in df2 is exist in the track)name column in df1\n",
        "# remove those rows from df2\n",
        "df2 = df2[~df2[\"track_name\"].isin(df1[\"track_name\"])]\n",
        "\n",
        "# now check again\n",
        "df2[\"track_name\"].isin(df1[\"track_name\"]).value_counts()"
      ]
    },
    {
      "cell_type": "code",
      "execution_count": 3,
      "metadata": {
        "colab": {
          "base_uri": "https://localhost:8080/"
        },
        "id": "iIKRPmYdRsbj",
        "outputId": "a636e9ba-9b10-42e1-c468-512ee14cb3af"
      },
      "outputs": [
        {
          "name": "stdout",
          "output_type": "stream",
          "text": [
            "             artist_name              track_name  release_date genre\n",
            "0          Woody Guthrie  This Land Is Your Land          1944  folk\n",
            "1            Pete Seeger       If I Had a Hammer          1949  folk\n",
            "2             Lead Belly        Goodnight, Irene          1933  folk\n",
            "3       Elizabeth Cotten           Freight Train          1958  folk\n",
            "4       Malvina Reynolds            Little Boxes          1962  folk\n",
            "..                   ...                     ...           ...   ...\n",
            "106               Hozier               Work Song          2014  folk\n",
            "107        First Aid Kit                 Emmylou          2012  folk\n",
            "108  Gregory Alan Isakov         The Stable Song          2007  folk\n",
            "109       Brandi Carlile          That Wasn't Me          2012  folk\n",
            "110      Phoebe Bridgers             Garden Song          2020  folk\n",
            "\n",
            "[106 rows x 4 columns]\n"
          ]
        }
      ],
      "source": [
        "print(df2)"
      ]
    },
    {
      "cell_type": "code",
      "execution_count": 9,
      "metadata": {
        "colab": {
          "base_uri": "https://localhost:8080/"
        },
        "id": "kMDQdja8SNUm",
        "outputId": "d59e8f8f-b18d-4d7d-c78e-d3756d4638ef"
      },
      "outputs": [],
      "source": [
        "import lyricsgenius\n",
        "\n",
        "# Replace \"YOUR_CLIENT_ACCESS_TOKEN\" with your actual Genius API client access token.\n",
        "# genius = lyricsgenius.Genius(\"hx59ID6rCaaNkTEsf7nJDCdD4a2AmnK5N1MMllH8nJ3NSTu7p4tqD7lA9nH48ZBy\")\n",
        "# genius.headers = {\n",
        "#     \"User-Agent\": \"Mozilla/5.0 (Windows NT 10.0; Win64; x64)\",\n",
        "#     \"Accept\": \"application/json\",\n",
        "#     \"Authorization\": f\"Bearer {genius.access_token}\"\n",
        "# }"
      ]
    },
    {
      "cell_type": "code",
      "execution_count": 10,
      "metadata": {
        "id": "FdxJHZ69vLnP"
      },
      "outputs": [
        {
          "ename": "HTTPError",
          "evalue": "[Errno 403] 403 Client Error: Forbidden for url: https://genius.com/Andy-shauf-begin-again-lyrics",
          "output_type": "error",
          "traceback": [
            "\u001b[0;31m---------------------------------------------------------------------------\u001b[0m",
            "\u001b[0;31mHTTPError\u001b[0m                                 Traceback (most recent call last)",
            "File \u001b[0;32m~/Documents/mendeley-genre-classifier/LyricsImporter/myenv/lib/python3.9/site-packages/lyricsgenius/api/base.py:80\u001b[0m, in \u001b[0;36mSender._make_request\u001b[0;34m(self, path, method, params_, public_api, web, **kwargs)\u001b[0m\n\u001b[1;32m     75\u001b[0m     response \u001b[38;5;241m=\u001b[39m \u001b[38;5;28mself\u001b[39m\u001b[38;5;241m.\u001b[39m_session\u001b[38;5;241m.\u001b[39mrequest(method, uri,\n\u001b[1;32m     76\u001b[0m                                      timeout\u001b[38;5;241m=\u001b[39m\u001b[38;5;28mself\u001b[39m\u001b[38;5;241m.\u001b[39mtimeout,\n\u001b[1;32m     77\u001b[0m                                      params\u001b[38;5;241m=\u001b[39mparams_,\n\u001b[1;32m     78\u001b[0m                                      headers\u001b[38;5;241m=\u001b[39mheader,\n\u001b[1;32m     79\u001b[0m                                      \u001b[38;5;241m*\u001b[39m\u001b[38;5;241m*\u001b[39mkwargs)\n\u001b[0;32m---> 80\u001b[0m     \u001b[43mresponse\u001b[49m\u001b[38;5;241;43m.\u001b[39;49m\u001b[43mraise_for_status\u001b[49m\u001b[43m(\u001b[49m\u001b[43m)\u001b[49m\n\u001b[1;32m     81\u001b[0m \u001b[38;5;28;01mexcept\u001b[39;00m Timeout \u001b[38;5;28;01mas\u001b[39;00m e:\n",
            "File \u001b[0;32m~/Documents/mendeley-genre-classifier/LyricsImporter/myenv/lib/python3.9/site-packages/requests/models.py:1024\u001b[0m, in \u001b[0;36mResponse.raise_for_status\u001b[0;34m(self)\u001b[0m\n\u001b[1;32m   1023\u001b[0m \u001b[38;5;28;01mif\u001b[39;00m http_error_msg:\n\u001b[0;32m-> 1024\u001b[0m     \u001b[38;5;28;01mraise\u001b[39;00m HTTPError(http_error_msg, response\u001b[38;5;241m=\u001b[39m\u001b[38;5;28mself\u001b[39m)\n",
            "\u001b[0;31mHTTPError\u001b[0m: 403 Client Error: Forbidden for url: https://genius.com/Andy-shauf-begin-again-lyrics",
            "\nDuring handling of the above exception, another exception occurred:\n",
            "\u001b[0;31mHTTPError\u001b[0m                                 Traceback (most recent call last)",
            "Cell \u001b[0;32mIn[10], line 6\u001b[0m\n\u001b[1;32m      4\u001b[0m \u001b[38;5;28;01mfor\u001b[39;00m song \u001b[38;5;129;01min\u001b[39;00m songs[\u001b[38;5;124m'\u001b[39m\u001b[38;5;124mhits\u001b[39m\u001b[38;5;124m'\u001b[39m]:\n\u001b[1;32m      5\u001b[0m     url \u001b[38;5;241m=\u001b[39m song[\u001b[38;5;124m'\u001b[39m\u001b[38;5;124mresult\u001b[39m\u001b[38;5;124m'\u001b[39m][\u001b[38;5;124m'\u001b[39m\u001b[38;5;124murl\u001b[39m\u001b[38;5;124m'\u001b[39m]\n\u001b[0;32m----> 6\u001b[0m     song_lyrics \u001b[38;5;241m=\u001b[39m \u001b[43mgenius\u001b[49m\u001b[38;5;241;43m.\u001b[39;49m\u001b[43mlyrics\u001b[49m\u001b[43m(\u001b[49m\u001b[43msong_url\u001b[49m\u001b[38;5;241;43m=\u001b[39;49m\u001b[43murl\u001b[49m\u001b[43m)\u001b[49m\n\u001b[1;32m      7\u001b[0m     \u001b[38;5;66;03m# id = song['result']['id']\u001b[39;00m\n\u001b[1;32m      8\u001b[0m     \u001b[38;5;66;03m# song_lyrics = genius.lyrics(id)\u001b[39;00m\n\u001b[1;32m      9\u001b[0m     lyrics\u001b[38;5;241m.\u001b[39mappend(song_lyrics)\n",
            "File \u001b[0;32m~/Documents/mendeley-genre-classifier/LyricsImporter/myenv/lib/python3.9/site-packages/lyricsgenius/genius.py:132\u001b[0m, in \u001b[0;36mGenius.lyrics\u001b[0;34m(self, song_id, song_url, remove_section_headers)\u001b[0m\n\u001b[1;32m    128\u001b[0m     path \u001b[38;5;241m=\u001b[39m \u001b[38;5;28mself\u001b[39m\u001b[38;5;241m.\u001b[39msong(song_id)[\u001b[38;5;124m'\u001b[39m\u001b[38;5;124msong\u001b[39m\u001b[38;5;124m'\u001b[39m][\u001b[38;5;124m'\u001b[39m\u001b[38;5;124mpath\u001b[39m\u001b[38;5;124m'\u001b[39m][\u001b[38;5;241m1\u001b[39m:]\n\u001b[1;32m    130\u001b[0m \u001b[38;5;66;03m# Scrape the song lyrics from the HTML\u001b[39;00m\n\u001b[1;32m    131\u001b[0m html \u001b[38;5;241m=\u001b[39m BeautifulSoup(\n\u001b[0;32m--> 132\u001b[0m     \u001b[38;5;28;43mself\u001b[39;49m\u001b[38;5;241;43m.\u001b[39;49m\u001b[43m_make_request\u001b[49m\u001b[43m(\u001b[49m\u001b[43mpath\u001b[49m\u001b[43m,\u001b[49m\u001b[43m \u001b[49m\u001b[43mweb\u001b[49m\u001b[38;5;241;43m=\u001b[39;49m\u001b[38;5;28;43;01mTrue\u001b[39;49;00m\u001b[43m)\u001b[49m\u001b[38;5;241m.\u001b[39mreplace(\u001b[38;5;124m'\u001b[39m\u001b[38;5;124m<br/>\u001b[39m\u001b[38;5;124m'\u001b[39m, \u001b[38;5;124m'\u001b[39m\u001b[38;5;130;01m\\n\u001b[39;00m\u001b[38;5;124m'\u001b[39m),\n\u001b[1;32m    133\u001b[0m     \u001b[38;5;124m\"\u001b[39m\u001b[38;5;124mhtml.parser\u001b[39m\u001b[38;5;124m\"\u001b[39m\n\u001b[1;32m    134\u001b[0m )\n\u001b[1;32m    136\u001b[0m \u001b[38;5;66;03m# Determine the class of the div\u001b[39;00m\n\u001b[1;32m    137\u001b[0m div \u001b[38;5;241m=\u001b[39m html\u001b[38;5;241m.\u001b[39mfind(\u001b[38;5;124m\"\u001b[39m\u001b[38;5;124mdiv\u001b[39m\u001b[38;5;124m\"\u001b[39m, class_\u001b[38;5;241m=\u001b[39mre\u001b[38;5;241m.\u001b[39mcompile(\u001b[38;5;124m\"\u001b[39m\u001b[38;5;124m^lyrics$|Lyrics__Root\u001b[39m\u001b[38;5;124m\"\u001b[39m))\n",
            "File \u001b[0;32m~/Documents/mendeley-genre-classifier/LyricsImporter/myenv/lib/python3.9/site-packages/lyricsgenius/api/base.py:88\u001b[0m, in \u001b[0;36mSender._make_request\u001b[0;34m(self, path, method, params_, public_api, web, **kwargs)\u001b[0m\n\u001b[1;32m     86\u001b[0m     error \u001b[38;5;241m=\u001b[39m get_description(e)\n\u001b[1;32m     87\u001b[0m     \u001b[38;5;28;01mif\u001b[39;00m response\u001b[38;5;241m.\u001b[39mstatus_code \u001b[38;5;241m<\u001b[39m \u001b[38;5;241m500\u001b[39m \u001b[38;5;129;01mor\u001b[39;00m tries \u001b[38;5;241m>\u001b[39m \u001b[38;5;28mself\u001b[39m\u001b[38;5;241m.\u001b[39mretries:\n\u001b[0;32m---> 88\u001b[0m         \u001b[38;5;28;01mraise\u001b[39;00m HTTPError(response\u001b[38;5;241m.\u001b[39mstatus_code, error)\n\u001b[1;32m     90\u001b[0m \u001b[38;5;66;03m# Enforce rate limiting\u001b[39;00m\n\u001b[1;32m     91\u001b[0m time\u001b[38;5;241m.\u001b[39msleep(\u001b[38;5;28mself\u001b[39m\u001b[38;5;241m.\u001b[39msleep_time)\n",
            "\u001b[0;31mHTTPError\u001b[0m: [Errno 403] 403 Client Error: Forbidden for url: https://genius.com/Andy-shauf-begin-again-lyrics"
          ]
        }
      ],
      "source": [
        "lyrics = []\n",
        "\n",
        "songs = genius.search_songs('Begin Again Andy Shauf')\n",
        "for song in songs['hits']:\n",
        "    url = song['result']['url']\n",
        "    song_lyrics = genius.lyrics(song_url=url)\n",
        "    # id = song['result']['id']\n",
        "    # song_lyrics = genius.lyrics(id)\n",
        "    lyrics.append(song_lyrics)\n",
        "    \n",
        "print(lyrics)"
      ]
    },
    {
      "cell_type": "code",
      "execution_count": 11,
      "metadata": {},
      "outputs": [
        {
          "ename": "HTTPError",
          "evalue": "[Errno 403] 403 Client Error: Forbidden for url: https://genius.com/tags/pop/all?page=1",
          "output_type": "error",
          "traceback": [
            "\u001b[0;31m---------------------------------------------------------------------------\u001b[0m",
            "\u001b[0;31mHTTPError\u001b[0m                                 Traceback (most recent call last)",
            "File \u001b[0;32m~/Documents/mendeley-genre-classifier/LyricsImporter/myenv/lib/python3.9/site-packages/lyricsgenius/api/base.py:80\u001b[0m, in \u001b[0;36mSender._make_request\u001b[0;34m(self, path, method, params_, public_api, web, **kwargs)\u001b[0m\n\u001b[1;32m     75\u001b[0m     response \u001b[38;5;241m=\u001b[39m \u001b[38;5;28mself\u001b[39m\u001b[38;5;241m.\u001b[39m_session\u001b[38;5;241m.\u001b[39mrequest(method, uri,\n\u001b[1;32m     76\u001b[0m                                      timeout\u001b[38;5;241m=\u001b[39m\u001b[38;5;28mself\u001b[39m\u001b[38;5;241m.\u001b[39mtimeout,\n\u001b[1;32m     77\u001b[0m                                      params\u001b[38;5;241m=\u001b[39mparams_,\n\u001b[1;32m     78\u001b[0m                                      headers\u001b[38;5;241m=\u001b[39mheader,\n\u001b[1;32m     79\u001b[0m                                      \u001b[38;5;241m*\u001b[39m\u001b[38;5;241m*\u001b[39mkwargs)\n\u001b[0;32m---> 80\u001b[0m     \u001b[43mresponse\u001b[49m\u001b[38;5;241;43m.\u001b[39;49m\u001b[43mraise_for_status\u001b[49m\u001b[43m(\u001b[49m\u001b[43m)\u001b[49m\n\u001b[1;32m     81\u001b[0m \u001b[38;5;28;01mexcept\u001b[39;00m Timeout \u001b[38;5;28;01mas\u001b[39;00m e:\n",
            "File \u001b[0;32m~/Documents/mendeley-genre-classifier/LyricsImporter/myenv/lib/python3.9/site-packages/requests/models.py:1024\u001b[0m, in \u001b[0;36mResponse.raise_for_status\u001b[0;34m(self)\u001b[0m\n\u001b[1;32m   1023\u001b[0m \u001b[38;5;28;01mif\u001b[39;00m http_error_msg:\n\u001b[0;32m-> 1024\u001b[0m     \u001b[38;5;28;01mraise\u001b[39;00m HTTPError(http_error_msg, response\u001b[38;5;241m=\u001b[39m\u001b[38;5;28mself\u001b[39m)\n",
            "\u001b[0;31mHTTPError\u001b[0m: 403 Client Error: Forbidden for url: https://genius.com/tags/pop/all?page=1",
            "\nDuring handling of the above exception, another exception occurred:\n",
            "\u001b[0;31mHTTPError\u001b[0m                                 Traceback (most recent call last)",
            "Cell \u001b[0;32mIn[11], line 7\u001b[0m\n\u001b[1;32m      5\u001b[0m page \u001b[38;5;241m=\u001b[39m \u001b[38;5;241m1\u001b[39m\n\u001b[1;32m      6\u001b[0m \u001b[38;5;28;01mwhile\u001b[39;00m page \u001b[38;5;129;01mand\u001b[39;00m \u001b[38;5;28mlen\u001b[39m(songs) \u001b[38;5;241m<\u001b[39m \u001b[38;5;241m100\u001b[39m:\n\u001b[0;32m----> 7\u001b[0m     res \u001b[38;5;241m=\u001b[39m \u001b[43mgenius\u001b[49m\u001b[38;5;241;43m.\u001b[39;49m\u001b[43mtag\u001b[49m\u001b[43m(\u001b[49m\u001b[43mgenre\u001b[49m\u001b[43m,\u001b[49m\u001b[43m \u001b[49m\u001b[43mpage\u001b[49m\u001b[38;5;241;43m=\u001b[39;49m\u001b[43mpage\u001b[49m\u001b[43m)\u001b[49m\n\u001b[1;32m      8\u001b[0m     \u001b[38;5;28mprint\u001b[39m(res)\n\u001b[1;32m      9\u001b[0m     \u001b[38;5;28;01mfor\u001b[39;00m hit \u001b[38;5;129;01min\u001b[39;00m res[\u001b[38;5;124m'\u001b[39m\u001b[38;5;124mhits\u001b[39m\u001b[38;5;124m'\u001b[39m]:\n\u001b[1;32m     10\u001b[0m         \u001b[38;5;66;03m# song_lyrics = genius.lyrics(song_url=hit['url'])\u001b[39;00m\n",
            "File \u001b[0;32m~/Documents/mendeley-genre-classifier/LyricsImporter/myenv/lib/python3.9/site-packages/lyricsgenius/genius.py:698\u001b[0m, in \u001b[0;36mGenius.tag\u001b[0;34m(self, name, page)\u001b[0m\n\u001b[1;32m    695\u001b[0m path \u001b[38;5;241m=\u001b[39m \u001b[38;5;124m'\u001b[39m\u001b[38;5;124mtags/\u001b[39m\u001b[38;5;132;01m{}\u001b[39;00m\u001b[38;5;124m/all\u001b[39m\u001b[38;5;124m'\u001b[39m\u001b[38;5;241m.\u001b[39mformat(name)\n\u001b[1;32m    696\u001b[0m params \u001b[38;5;241m=\u001b[39m {\u001b[38;5;124m'\u001b[39m\u001b[38;5;124mpage\u001b[39m\u001b[38;5;124m'\u001b[39m: page}\n\u001b[1;32m    697\u001b[0m soup \u001b[38;5;241m=\u001b[39m BeautifulSoup(\n\u001b[0;32m--> 698\u001b[0m     \u001b[38;5;28;43mself\u001b[39;49m\u001b[38;5;241;43m.\u001b[39;49m\u001b[43m_make_request\u001b[49m\u001b[43m(\u001b[49m\u001b[43mpath\u001b[49m\u001b[43m,\u001b[49m\u001b[43m \u001b[49m\u001b[43mparams_\u001b[49m\u001b[38;5;241;43m=\u001b[39;49m\u001b[43mparams\u001b[49m\u001b[43m,\u001b[49m\u001b[43m \u001b[49m\u001b[43mweb\u001b[49m\u001b[38;5;241;43m=\u001b[39;49m\u001b[38;5;28;43;01mTrue\u001b[39;49;00m\u001b[43m)\u001b[49m,\n\u001b[1;32m    699\u001b[0m     \u001b[38;5;124m'\u001b[39m\u001b[38;5;124mhtml.parser\u001b[39m\u001b[38;5;124m'\u001b[39m\n\u001b[1;32m    700\u001b[0m )\n\u001b[1;32m    701\u001b[0m hits \u001b[38;5;241m=\u001b[39m []\n\u001b[1;32m    703\u001b[0m ul \u001b[38;5;241m=\u001b[39m soup\u001b[38;5;241m.\u001b[39mfind(\u001b[38;5;124m'\u001b[39m\u001b[38;5;124mul\u001b[39m\u001b[38;5;124m'\u001b[39m, class_\u001b[38;5;241m=\u001b[39m\u001b[38;5;124m'\u001b[39m\u001b[38;5;124msong_list\u001b[39m\u001b[38;5;124m'\u001b[39m)\n",
            "File \u001b[0;32m~/Documents/mendeley-genre-classifier/LyricsImporter/myenv/lib/python3.9/site-packages/lyricsgenius/api/base.py:88\u001b[0m, in \u001b[0;36mSender._make_request\u001b[0;34m(self, path, method, params_, public_api, web, **kwargs)\u001b[0m\n\u001b[1;32m     86\u001b[0m     error \u001b[38;5;241m=\u001b[39m get_description(e)\n\u001b[1;32m     87\u001b[0m     \u001b[38;5;28;01mif\u001b[39;00m response\u001b[38;5;241m.\u001b[39mstatus_code \u001b[38;5;241m<\u001b[39m \u001b[38;5;241m500\u001b[39m \u001b[38;5;129;01mor\u001b[39;00m tries \u001b[38;5;241m>\u001b[39m \u001b[38;5;28mself\u001b[39m\u001b[38;5;241m.\u001b[39mretries:\n\u001b[0;32m---> 88\u001b[0m         \u001b[38;5;28;01mraise\u001b[39;00m HTTPError(response\u001b[38;5;241m.\u001b[39mstatus_code, error)\n\u001b[1;32m     90\u001b[0m \u001b[38;5;66;03m# Enforce rate limiting\u001b[39;00m\n\u001b[1;32m     91\u001b[0m time\u001b[38;5;241m.\u001b[39msleep(\u001b[38;5;28mself\u001b[39m\u001b[38;5;241m.\u001b[39msleep_time)\n",
            "\u001b[0;31mHTTPError\u001b[0m: [Errno 403] 403 Client Error: Forbidden for url: https://genius.com/tags/pop/all?page=1"
          ]
        }
      ],
      "source": [
        "\n",
        "genre = 'pop'\n",
        "\n",
        "songs = []\n",
        "\n",
        "page = 1\n",
        "while page and len(songs) < 100:\n",
        "    res = genius.tag(genre, page=page)\n",
        "    print(res)\n",
        "    for hit in res['hits']:\n",
        "        # song_lyrics = genius.lyrics(song_url=hit['url'])\n",
        "        print(hit['title'])"
      ]
    },
    {
      "cell_type": "code",
      "execution_count": 5,
      "metadata": {
        "id": "_qWz0OmeUyRq"
      },
      "outputs": [],
      "source": [
        "import time\n",
        "\n",
        "def get_lyrics(track_name):\n",
        "  attempts = 0\n",
        "  max_attempts = 3  # Set a maximum number of attempts\n",
        "  while attempts < max_attempts:\n",
        "    try:\n",
        "      song = genius.search_song(track_name)\n",
        "      if song:\n",
        "        print(f\"Lyrics found for: {track_name}\")  # Print success message\n",
        "        return song.lyrics\n",
        "      else:\n",
        "        print(f\"No lyrics found for: {track_name}\")  # Print not found message\n",
        "        return None\n",
        "    except Exception as e:\n",
        "      print(f\"Error fetching lyrics for {track_name}: {e}\")  # Print error message\n",
        "      attempts += 1\n",
        "      time.sleep(5)  # Wait for 5 seconds before retrying\n",
        "  print(f\"Failed to fetch lyrics for {track_name} after {max_attempts} attempts.\")\n",
        "  return None"
      ]
    },
    {
      "cell_type": "code",
      "execution_count": null,
      "metadata": {
        "id": "VgtUJcJ1hu8Q"
      },
      "outputs": [],
      "source": []
    },
    {
      "cell_type": "code",
      "execution_count": 6,
      "metadata": {
        "colab": {
          "base_uri": "https://localhost:8080/",
          "height": 1000
        },
        "id": "2X_JqKoYT5IU",
        "outputId": "27883b1b-16eb-4222-d63e-f2f2891e185c"
      },
      "outputs": [
        {
          "name": "stdout",
          "output_type": "stream",
          "text": [
            "Searching for \"This Land Is Your Land\"...\n",
            "Error fetching lyrics for This Land Is Your Land: [Errno 403] 403 Client Error: Forbidden for url: https://genius.com/api/search/multi?q=This+Land+Is+Your+Land\n",
            "Searching for \"This Land Is Your Land\"...\n",
            "Error fetching lyrics for This Land Is Your Land: [Errno 403] 403 Client Error: Forbidden for url: https://genius.com/api/search/multi?q=This+Land+Is+Your+Land\n",
            "Searching for \"This Land Is Your Land\"...\n",
            "Error fetching lyrics for This Land Is Your Land: [Errno 403] 403 Client Error: Forbidden for url: https://genius.com/api/search/multi?q=This+Land+Is+Your+Land\n",
            "Failed to fetch lyrics for This Land Is Your Land after 3 attempts.\n",
            "Searching for \"If I Had a Hammer\"...\n",
            "Error fetching lyrics for If I Had a Hammer: [Errno 403] 403 Client Error: Forbidden for url: https://genius.com/api/search/multi?q=If+I+Had+a+Hammer\n",
            "Searching for \"If I Had a Hammer\"...\n",
            "Error fetching lyrics for If I Had a Hammer: [Errno 403] 403 Client Error: Forbidden for url: https://genius.com/api/search/multi?q=If+I+Had+a+Hammer\n",
            "Searching for \"If I Had a Hammer\"...\n",
            "Error fetching lyrics for If I Had a Hammer: [Errno 403] 403 Client Error: Forbidden for url: https://genius.com/api/search/multi?q=If+I+Had+a+Hammer\n",
            "Failed to fetch lyrics for If I Had a Hammer after 3 attempts.\n",
            "Searching for \"Goodnight, Irene\"...\n",
            "Error fetching lyrics for Goodnight, Irene: [Errno 403] 403 Client Error: Forbidden for url: https://genius.com/api/search/multi?q=Goodnight%2C+Irene\n",
            "Searching for \"Goodnight, Irene\"...\n",
            "Error fetching lyrics for Goodnight, Irene: [Errno 403] 403 Client Error: Forbidden for url: https://genius.com/api/search/multi?q=Goodnight%2C+Irene\n",
            "Searching for \"Goodnight, Irene\"...\n",
            "Error fetching lyrics for Goodnight, Irene: [Errno 403] 403 Client Error: Forbidden for url: https://genius.com/api/search/multi?q=Goodnight%2C+Irene\n",
            "Failed to fetch lyrics for Goodnight, Irene after 3 attempts.\n",
            "Searching for \"Freight Train\"...\n",
            "Error fetching lyrics for Freight Train: [Errno 403] 403 Client Error: Forbidden for url: https://genius.com/api/search/multi?q=Freight+Train\n",
            "Searching for \"Freight Train\"...\n",
            "Error fetching lyrics for Freight Train: [Errno 403] 403 Client Error: Forbidden for url: https://genius.com/api/search/multi?q=Freight+Train\n",
            "Searching for \"Freight Train\"...\n",
            "Error fetching lyrics for Freight Train: [Errno 403] 403 Client Error: Forbidden for url: https://genius.com/api/search/multi?q=Freight+Train\n",
            "Failed to fetch lyrics for Freight Train after 3 attempts.\n",
            "Searching for \"Little Boxes\"...\n",
            "Error fetching lyrics for Little Boxes: [Errno 403] 403 Client Error: Forbidden for url: https://genius.com/api/search/multi?q=Little+Boxes\n",
            "Searching for \"Little Boxes\"...\n",
            "Error fetching lyrics for Little Boxes: [Errno 403] 403 Client Error: Forbidden for url: https://genius.com/api/search/multi?q=Little+Boxes\n"
          ]
        },
        {
          "ename": "KeyboardInterrupt",
          "evalue": "",
          "output_type": "error",
          "traceback": [
            "\u001b[0;31m---------------------------------------------------------------------------\u001b[0m",
            "\u001b[0;31mHTTPError\u001b[0m                                 Traceback (most recent call last)",
            "File \u001b[0;32m~/Documents/mendeley-genre-classifier/LyricsImporter/myenv/lib/python3.9/site-packages/lyricsgenius/api/base.py:80\u001b[0m, in \u001b[0;36mSender._make_request\u001b[0;34m(self, path, method, params_, public_api, web, **kwargs)\u001b[0m\n\u001b[1;32m     75\u001b[0m     response \u001b[38;5;241m=\u001b[39m \u001b[38;5;28mself\u001b[39m\u001b[38;5;241m.\u001b[39m_session\u001b[38;5;241m.\u001b[39mrequest(method, uri,\n\u001b[1;32m     76\u001b[0m                                      timeout\u001b[38;5;241m=\u001b[39m\u001b[38;5;28mself\u001b[39m\u001b[38;5;241m.\u001b[39mtimeout,\n\u001b[1;32m     77\u001b[0m                                      params\u001b[38;5;241m=\u001b[39mparams_,\n\u001b[1;32m     78\u001b[0m                                      headers\u001b[38;5;241m=\u001b[39mheader,\n\u001b[1;32m     79\u001b[0m                                      \u001b[38;5;241m*\u001b[39m\u001b[38;5;241m*\u001b[39mkwargs)\n\u001b[0;32m---> 80\u001b[0m     \u001b[43mresponse\u001b[49m\u001b[38;5;241;43m.\u001b[39;49m\u001b[43mraise_for_status\u001b[49m\u001b[43m(\u001b[49m\u001b[43m)\u001b[49m\n\u001b[1;32m     81\u001b[0m \u001b[38;5;28;01mexcept\u001b[39;00m Timeout \u001b[38;5;28;01mas\u001b[39;00m e:\n",
            "File \u001b[0;32m~/Documents/mendeley-genre-classifier/LyricsImporter/myenv/lib/python3.9/site-packages/requests/models.py:1024\u001b[0m, in \u001b[0;36mResponse.raise_for_status\u001b[0;34m(self)\u001b[0m\n\u001b[1;32m   1023\u001b[0m \u001b[38;5;28;01mif\u001b[39;00m http_error_msg:\n\u001b[0;32m-> 1024\u001b[0m     \u001b[38;5;28;01mraise\u001b[39;00m HTTPError(http_error_msg, response\u001b[38;5;241m=\u001b[39m\u001b[38;5;28mself\u001b[39m)\n",
            "\u001b[0;31mHTTPError\u001b[0m: 403 Client Error: Forbidden for url: https://genius.com/api/search/multi?q=Little+Boxes",
            "\nDuring handling of the above exception, another exception occurred:\n",
            "\u001b[0;31mHTTPError\u001b[0m                                 Traceback (most recent call last)",
            "Cell \u001b[0;32mIn[5], line 8\u001b[0m, in \u001b[0;36mget_lyrics\u001b[0;34m(track_name)\u001b[0m\n\u001b[1;32m      7\u001b[0m \u001b[38;5;28;01mtry\u001b[39;00m:\n\u001b[0;32m----> 8\u001b[0m   song \u001b[38;5;241m=\u001b[39m \u001b[43mgenius\u001b[49m\u001b[38;5;241;43m.\u001b[39;49m\u001b[43msearch_song\u001b[49m\u001b[43m(\u001b[49m\u001b[43mtrack_name\u001b[49m\u001b[43m)\u001b[49m\n\u001b[1;32m      9\u001b[0m   \u001b[38;5;28;01mif\u001b[39;00m song:\n",
            "File \u001b[0;32m~/Documents/mendeley-genre-classifier/LyricsImporter/myenv/lib/python3.9/site-packages/lyricsgenius/genius.py:401\u001b[0m, in \u001b[0;36mGenius.search_song\u001b[0;34m(self, title, artist, song_id, get_full_info)\u001b[0m\n\u001b[1;32m    400\u001b[0m search_term \u001b[38;5;241m=\u001b[39m \u001b[38;5;124m\"\u001b[39m\u001b[38;5;132;01m{s}\u001b[39;00m\u001b[38;5;124m \u001b[39m\u001b[38;5;132;01m{a}\u001b[39;00m\u001b[38;5;124m\"\u001b[39m\u001b[38;5;241m.\u001b[39mformat(s\u001b[38;5;241m=\u001b[39mtitle, a\u001b[38;5;241m=\u001b[39martist)\u001b[38;5;241m.\u001b[39mstrip()\n\u001b[0;32m--> 401\u001b[0m search_response \u001b[38;5;241m=\u001b[39m \u001b[38;5;28;43mself\u001b[39;49m\u001b[38;5;241;43m.\u001b[39;49m\u001b[43msearch_all\u001b[49m\u001b[43m(\u001b[49m\u001b[43msearch_term\u001b[49m\u001b[43m)\u001b[49m\n\u001b[1;32m    402\u001b[0m result \u001b[38;5;241m=\u001b[39m \u001b[38;5;28mself\u001b[39m\u001b[38;5;241m.\u001b[39m_get_item_from_search_response(search_response,\n\u001b[1;32m    403\u001b[0m                                              title,\n\u001b[1;32m    404\u001b[0m                                              type_\u001b[38;5;241m=\u001b[39m\u001b[38;5;124m\"\u001b[39m\u001b[38;5;124msong\u001b[39m\u001b[38;5;124m\"\u001b[39m,\n\u001b[1;32m    405\u001b[0m                                              result_type\u001b[38;5;241m=\u001b[39m\u001b[38;5;124m\"\u001b[39m\u001b[38;5;124mtitle\u001b[39m\u001b[38;5;124m\"\u001b[39m)\n",
            "File \u001b[0;32m~/Documents/mendeley-genre-classifier/LyricsImporter/myenv/lib/python3.9/site-packages/lyricsgenius/api/public_methods/search.py:210\u001b[0m, in \u001b[0;36mSearchMethods.search_all\u001b[0;34m(self, search_term, per_page, page)\u001b[0m\n\u001b[1;32m    209\u001b[0m endpoint \u001b[38;5;241m=\u001b[39m \u001b[38;5;124m'\u001b[39m\u001b[38;5;124mmulti\u001b[39m\u001b[38;5;124m'\u001b[39m\n\u001b[0;32m--> 210\u001b[0m \u001b[38;5;28;01mreturn\u001b[39;00m \u001b[38;5;28;43mself\u001b[39;49m\u001b[38;5;241;43m.\u001b[39;49m\u001b[43msearch\u001b[49m\u001b[43m(\u001b[49m\u001b[43msearch_term\u001b[49m\u001b[43m,\u001b[49m\u001b[43m \u001b[49m\u001b[43mper_page\u001b[49m\u001b[43m,\u001b[49m\u001b[43m \u001b[49m\u001b[43mpage\u001b[49m\u001b[43m,\u001b[49m\u001b[43m \u001b[49m\u001b[43mendpoint\u001b[49m\u001b[43m)\u001b[49m\n",
            "File \u001b[0;32m~/Documents/mendeley-genre-classifier/LyricsImporter/myenv/lib/python3.9/site-packages/lyricsgenius/api/public_methods/search.py:45\u001b[0m, in \u001b[0;36mSearchMethods.search\u001b[0;34m(self, search_term, per_page, page, type_)\u001b[0m\n\u001b[1;32m     42\u001b[0m params \u001b[38;5;241m=\u001b[39m {\u001b[38;5;124m'\u001b[39m\u001b[38;5;124mq\u001b[39m\u001b[38;5;124m'\u001b[39m: search_term,\n\u001b[1;32m     43\u001b[0m           \u001b[38;5;124m'\u001b[39m\u001b[38;5;124mper_page\u001b[39m\u001b[38;5;124m'\u001b[39m: per_page,\n\u001b[1;32m     44\u001b[0m           \u001b[38;5;124m'\u001b[39m\u001b[38;5;124mpage\u001b[39m\u001b[38;5;124m'\u001b[39m: page}\n\u001b[0;32m---> 45\u001b[0m \u001b[38;5;28;01mreturn\u001b[39;00m \u001b[38;5;28;43mself\u001b[39;49m\u001b[38;5;241;43m.\u001b[39;49m\u001b[43m_make_request\u001b[49m\u001b[43m(\u001b[49m\u001b[43mpath\u001b[49m\u001b[43m,\u001b[49m\u001b[43m \u001b[49m\u001b[43mparams_\u001b[49m\u001b[38;5;241;43m=\u001b[39;49m\u001b[43mparams\u001b[49m\u001b[43m,\u001b[49m\u001b[43m \u001b[49m\u001b[43mpublic_api\u001b[49m\u001b[38;5;241;43m=\u001b[39;49m\u001b[38;5;28;43;01mTrue\u001b[39;49;00m\u001b[43m)\u001b[49m\n",
            "File \u001b[0;32m~/Documents/mendeley-genre-classifier/LyricsImporter/myenv/lib/python3.9/site-packages/lyricsgenius/api/base.py:88\u001b[0m, in \u001b[0;36mSender._make_request\u001b[0;34m(self, path, method, params_, public_api, web, **kwargs)\u001b[0m\n\u001b[1;32m     87\u001b[0m     \u001b[38;5;28;01mif\u001b[39;00m response\u001b[38;5;241m.\u001b[39mstatus_code \u001b[38;5;241m<\u001b[39m \u001b[38;5;241m500\u001b[39m \u001b[38;5;129;01mor\u001b[39;00m tries \u001b[38;5;241m>\u001b[39m \u001b[38;5;28mself\u001b[39m\u001b[38;5;241m.\u001b[39mretries:\n\u001b[0;32m---> 88\u001b[0m         \u001b[38;5;28;01mraise\u001b[39;00m HTTPError(response\u001b[38;5;241m.\u001b[39mstatus_code, error)\n\u001b[1;32m     90\u001b[0m \u001b[38;5;66;03m# Enforce rate limiting\u001b[39;00m\n",
            "\u001b[0;31mHTTPError\u001b[0m: [Errno 403] 403 Client Error: Forbidden for url: https://genius.com/api/search/multi?q=Little+Boxes",
            "\nDuring handling of the above exception, another exception occurred:\n",
            "\u001b[0;31mKeyboardInterrupt\u001b[0m                         Traceback (most recent call last)",
            "Cell \u001b[0;32mIn[6], line 1\u001b[0m\n\u001b[0;32m----> 1\u001b[0m df2[\u001b[38;5;124m\"\u001b[39m\u001b[38;5;124mlyrics\u001b[39m\u001b[38;5;124m\"\u001b[39m] \u001b[38;5;241m=\u001b[39m \u001b[43mdf2\u001b[49m\u001b[43m[\u001b[49m\u001b[38;5;124;43m\"\u001b[39;49m\u001b[38;5;124;43mtrack_name\u001b[39;49m\u001b[38;5;124;43m\"\u001b[39;49m\u001b[43m]\u001b[49m\u001b[38;5;241;43m.\u001b[39;49m\u001b[43mapply\u001b[49m\u001b[43m(\u001b[49m\u001b[43mget_lyrics\u001b[49m\u001b[43m)\u001b[49m\n",
            "File \u001b[0;32m~/Documents/mendeley-genre-classifier/LyricsImporter/myenv/lib/python3.9/site-packages/pandas/core/series.py:4917\u001b[0m, in \u001b[0;36mSeries.apply\u001b[0;34m(self, func, convert_dtype, args, by_row, **kwargs)\u001b[0m\n\u001b[1;32m   4789\u001b[0m \u001b[38;5;28;01mdef\u001b[39;00m\u001b[38;5;250m \u001b[39m\u001b[38;5;21mapply\u001b[39m(\n\u001b[1;32m   4790\u001b[0m     \u001b[38;5;28mself\u001b[39m,\n\u001b[1;32m   4791\u001b[0m     func: AggFuncType,\n\u001b[0;32m   (...)\u001b[0m\n\u001b[1;32m   4796\u001b[0m     \u001b[38;5;241m*\u001b[39m\u001b[38;5;241m*\u001b[39mkwargs,\n\u001b[1;32m   4797\u001b[0m ) \u001b[38;5;241m-\u001b[39m\u001b[38;5;241m>\u001b[39m DataFrame \u001b[38;5;241m|\u001b[39m Series:\n\u001b[1;32m   4798\u001b[0m \u001b[38;5;250m    \u001b[39m\u001b[38;5;124;03m\"\"\"\u001b[39;00m\n\u001b[1;32m   4799\u001b[0m \u001b[38;5;124;03m    Invoke function on values of Series.\u001b[39;00m\n\u001b[1;32m   4800\u001b[0m \n\u001b[0;32m   (...)\u001b[0m\n\u001b[1;32m   4915\u001b[0m \u001b[38;5;124;03m    dtype: float64\u001b[39;00m\n\u001b[1;32m   4916\u001b[0m \u001b[38;5;124;03m    \"\"\"\u001b[39;00m\n\u001b[0;32m-> 4917\u001b[0m     \u001b[38;5;28;01mreturn\u001b[39;00m \u001b[43mSeriesApply\u001b[49m\u001b[43m(\u001b[49m\n\u001b[1;32m   4918\u001b[0m \u001b[43m        \u001b[49m\u001b[38;5;28;43mself\u001b[39;49m\u001b[43m,\u001b[49m\n\u001b[1;32m   4919\u001b[0m \u001b[43m        \u001b[49m\u001b[43mfunc\u001b[49m\u001b[43m,\u001b[49m\n\u001b[1;32m   4920\u001b[0m \u001b[43m        \u001b[49m\u001b[43mconvert_dtype\u001b[49m\u001b[38;5;241;43m=\u001b[39;49m\u001b[43mconvert_dtype\u001b[49m\u001b[43m,\u001b[49m\n\u001b[1;32m   4921\u001b[0m \u001b[43m        \u001b[49m\u001b[43mby_row\u001b[49m\u001b[38;5;241;43m=\u001b[39;49m\u001b[43mby_row\u001b[49m\u001b[43m,\u001b[49m\n\u001b[1;32m   4922\u001b[0m \u001b[43m        \u001b[49m\u001b[43margs\u001b[49m\u001b[38;5;241;43m=\u001b[39;49m\u001b[43margs\u001b[49m\u001b[43m,\u001b[49m\n\u001b[1;32m   4923\u001b[0m \u001b[43m        \u001b[49m\u001b[43mkwargs\u001b[49m\u001b[38;5;241;43m=\u001b[39;49m\u001b[43mkwargs\u001b[49m\u001b[43m,\u001b[49m\n\u001b[1;32m   4924\u001b[0m \u001b[43m    \u001b[49m\u001b[43m)\u001b[49m\u001b[38;5;241;43m.\u001b[39;49m\u001b[43mapply\u001b[49m\u001b[43m(\u001b[49m\u001b[43m)\u001b[49m\n",
            "File \u001b[0;32m~/Documents/mendeley-genre-classifier/LyricsImporter/myenv/lib/python3.9/site-packages/pandas/core/apply.py:1427\u001b[0m, in \u001b[0;36mSeriesApply.apply\u001b[0;34m(self)\u001b[0m\n\u001b[1;32m   1424\u001b[0m     \u001b[38;5;28;01mreturn\u001b[39;00m \u001b[38;5;28mself\u001b[39m\u001b[38;5;241m.\u001b[39mapply_compat()\n\u001b[1;32m   1426\u001b[0m \u001b[38;5;66;03m# self.func is Callable\u001b[39;00m\n\u001b[0;32m-> 1427\u001b[0m \u001b[38;5;28;01mreturn\u001b[39;00m \u001b[38;5;28;43mself\u001b[39;49m\u001b[38;5;241;43m.\u001b[39;49m\u001b[43mapply_standard\u001b[49m\u001b[43m(\u001b[49m\u001b[43m)\u001b[49m\n",
            "File \u001b[0;32m~/Documents/mendeley-genre-classifier/LyricsImporter/myenv/lib/python3.9/site-packages/pandas/core/apply.py:1507\u001b[0m, in \u001b[0;36mSeriesApply.apply_standard\u001b[0;34m(self)\u001b[0m\n\u001b[1;32m   1501\u001b[0m \u001b[38;5;66;03m# row-wise access\u001b[39;00m\n\u001b[1;32m   1502\u001b[0m \u001b[38;5;66;03m# apply doesn't have a `na_action` keyword and for backward compat reasons\u001b[39;00m\n\u001b[1;32m   1503\u001b[0m \u001b[38;5;66;03m# we need to give `na_action=\"ignore\"` for categorical data.\u001b[39;00m\n\u001b[1;32m   1504\u001b[0m \u001b[38;5;66;03m# TODO: remove the `na_action=\"ignore\"` when that default has been changed in\u001b[39;00m\n\u001b[1;32m   1505\u001b[0m \u001b[38;5;66;03m#  Categorical (GH51645).\u001b[39;00m\n\u001b[1;32m   1506\u001b[0m action \u001b[38;5;241m=\u001b[39m \u001b[38;5;124m\"\u001b[39m\u001b[38;5;124mignore\u001b[39m\u001b[38;5;124m\"\u001b[39m \u001b[38;5;28;01mif\u001b[39;00m \u001b[38;5;28misinstance\u001b[39m(obj\u001b[38;5;241m.\u001b[39mdtype, CategoricalDtype) \u001b[38;5;28;01melse\u001b[39;00m \u001b[38;5;28;01mNone\u001b[39;00m\n\u001b[0;32m-> 1507\u001b[0m mapped \u001b[38;5;241m=\u001b[39m \u001b[43mobj\u001b[49m\u001b[38;5;241;43m.\u001b[39;49m\u001b[43m_map_values\u001b[49m\u001b[43m(\u001b[49m\n\u001b[1;32m   1508\u001b[0m \u001b[43m    \u001b[49m\u001b[43mmapper\u001b[49m\u001b[38;5;241;43m=\u001b[39;49m\u001b[43mcurried\u001b[49m\u001b[43m,\u001b[49m\u001b[43m \u001b[49m\u001b[43mna_action\u001b[49m\u001b[38;5;241;43m=\u001b[39;49m\u001b[43maction\u001b[49m\u001b[43m,\u001b[49m\u001b[43m \u001b[49m\u001b[43mconvert\u001b[49m\u001b[38;5;241;43m=\u001b[39;49m\u001b[38;5;28;43mself\u001b[39;49m\u001b[38;5;241;43m.\u001b[39;49m\u001b[43mconvert_dtype\u001b[49m\n\u001b[1;32m   1509\u001b[0m \u001b[43m\u001b[49m\u001b[43m)\u001b[49m\n\u001b[1;32m   1511\u001b[0m \u001b[38;5;28;01mif\u001b[39;00m \u001b[38;5;28mlen\u001b[39m(mapped) \u001b[38;5;129;01mand\u001b[39;00m \u001b[38;5;28misinstance\u001b[39m(mapped[\u001b[38;5;241m0\u001b[39m], ABCSeries):\n\u001b[1;32m   1512\u001b[0m     \u001b[38;5;66;03m# GH#43986 Need to do list(mapped) in order to get treated as nested\u001b[39;00m\n\u001b[1;32m   1513\u001b[0m     \u001b[38;5;66;03m#  See also GH#25959 regarding EA support\u001b[39;00m\n\u001b[1;32m   1514\u001b[0m     \u001b[38;5;28;01mreturn\u001b[39;00m obj\u001b[38;5;241m.\u001b[39m_constructor_expanddim(\u001b[38;5;28mlist\u001b[39m(mapped), index\u001b[38;5;241m=\u001b[39mobj\u001b[38;5;241m.\u001b[39mindex)\n",
            "File \u001b[0;32m~/Documents/mendeley-genre-classifier/LyricsImporter/myenv/lib/python3.9/site-packages/pandas/core/base.py:921\u001b[0m, in \u001b[0;36mIndexOpsMixin._map_values\u001b[0;34m(self, mapper, na_action, convert)\u001b[0m\n\u001b[1;32m    918\u001b[0m \u001b[38;5;28;01mif\u001b[39;00m \u001b[38;5;28misinstance\u001b[39m(arr, ExtensionArray):\n\u001b[1;32m    919\u001b[0m     \u001b[38;5;28;01mreturn\u001b[39;00m arr\u001b[38;5;241m.\u001b[39mmap(mapper, na_action\u001b[38;5;241m=\u001b[39mna_action)\n\u001b[0;32m--> 921\u001b[0m \u001b[38;5;28;01mreturn\u001b[39;00m \u001b[43malgorithms\u001b[49m\u001b[38;5;241;43m.\u001b[39;49m\u001b[43mmap_array\u001b[49m\u001b[43m(\u001b[49m\u001b[43marr\u001b[49m\u001b[43m,\u001b[49m\u001b[43m \u001b[49m\u001b[43mmapper\u001b[49m\u001b[43m,\u001b[49m\u001b[43m \u001b[49m\u001b[43mna_action\u001b[49m\u001b[38;5;241;43m=\u001b[39;49m\u001b[43mna_action\u001b[49m\u001b[43m,\u001b[49m\u001b[43m \u001b[49m\u001b[43mconvert\u001b[49m\u001b[38;5;241;43m=\u001b[39;49m\u001b[43mconvert\u001b[49m\u001b[43m)\u001b[49m\n",
            "File \u001b[0;32m~/Documents/mendeley-genre-classifier/LyricsImporter/myenv/lib/python3.9/site-packages/pandas/core/algorithms.py:1743\u001b[0m, in \u001b[0;36mmap_array\u001b[0;34m(arr, mapper, na_action, convert)\u001b[0m\n\u001b[1;32m   1741\u001b[0m values \u001b[38;5;241m=\u001b[39m arr\u001b[38;5;241m.\u001b[39mastype(\u001b[38;5;28mobject\u001b[39m, copy\u001b[38;5;241m=\u001b[39m\u001b[38;5;28;01mFalse\u001b[39;00m)\n\u001b[1;32m   1742\u001b[0m \u001b[38;5;28;01mif\u001b[39;00m na_action \u001b[38;5;129;01mis\u001b[39;00m \u001b[38;5;28;01mNone\u001b[39;00m:\n\u001b[0;32m-> 1743\u001b[0m     \u001b[38;5;28;01mreturn\u001b[39;00m \u001b[43mlib\u001b[49m\u001b[38;5;241;43m.\u001b[39;49m\u001b[43mmap_infer\u001b[49m\u001b[43m(\u001b[49m\u001b[43mvalues\u001b[49m\u001b[43m,\u001b[49m\u001b[43m \u001b[49m\u001b[43mmapper\u001b[49m\u001b[43m,\u001b[49m\u001b[43m \u001b[49m\u001b[43mconvert\u001b[49m\u001b[38;5;241;43m=\u001b[39;49m\u001b[43mconvert\u001b[49m\u001b[43m)\u001b[49m\n\u001b[1;32m   1744\u001b[0m \u001b[38;5;28;01melse\u001b[39;00m:\n\u001b[1;32m   1745\u001b[0m     \u001b[38;5;28;01mreturn\u001b[39;00m lib\u001b[38;5;241m.\u001b[39mmap_infer_mask(\n\u001b[1;32m   1746\u001b[0m         values, mapper, mask\u001b[38;5;241m=\u001b[39misna(values)\u001b[38;5;241m.\u001b[39mview(np\u001b[38;5;241m.\u001b[39muint8), convert\u001b[38;5;241m=\u001b[39mconvert\n\u001b[1;32m   1747\u001b[0m     )\n",
            "File \u001b[0;32mlib.pyx:2972\u001b[0m, in \u001b[0;36mpandas._libs.lib.map_infer\u001b[0;34m()\u001b[0m\n",
            "Cell \u001b[0;32mIn[5], line 18\u001b[0m, in \u001b[0;36mget_lyrics\u001b[0;34m(track_name)\u001b[0m\n\u001b[1;32m     16\u001b[0m     \u001b[38;5;28mprint\u001b[39m(\u001b[38;5;124mf\u001b[39m\u001b[38;5;124m\"\u001b[39m\u001b[38;5;124mError fetching lyrics for \u001b[39m\u001b[38;5;132;01m{\u001b[39;00mtrack_name\u001b[38;5;132;01m}\u001b[39;00m\u001b[38;5;124m: \u001b[39m\u001b[38;5;132;01m{\u001b[39;00me\u001b[38;5;132;01m}\u001b[39;00m\u001b[38;5;124m\"\u001b[39m)  \u001b[38;5;66;03m# Print error message\u001b[39;00m\n\u001b[1;32m     17\u001b[0m     attempts \u001b[38;5;241m+\u001b[39m\u001b[38;5;241m=\u001b[39m \u001b[38;5;241m1\u001b[39m\n\u001b[0;32m---> 18\u001b[0m     \u001b[43mtime\u001b[49m\u001b[38;5;241;43m.\u001b[39;49m\u001b[43msleep\u001b[49m\u001b[43m(\u001b[49m\u001b[38;5;241;43m5\u001b[39;49m\u001b[43m)\u001b[49m  \u001b[38;5;66;03m# Wait for 5 seconds before retrying\u001b[39;00m\n\u001b[1;32m     19\u001b[0m \u001b[38;5;28mprint\u001b[39m(\u001b[38;5;124mf\u001b[39m\u001b[38;5;124m\"\u001b[39m\u001b[38;5;124mFailed to fetch lyrics for \u001b[39m\u001b[38;5;132;01m{\u001b[39;00mtrack_name\u001b[38;5;132;01m}\u001b[39;00m\u001b[38;5;124m after \u001b[39m\u001b[38;5;132;01m{\u001b[39;00mmax_attempts\u001b[38;5;132;01m}\u001b[39;00m\u001b[38;5;124m attempts.\u001b[39m\u001b[38;5;124m\"\u001b[39m)\n\u001b[1;32m     20\u001b[0m \u001b[38;5;28;01mreturn\u001b[39;00m \u001b[38;5;28;01mNone\u001b[39;00m\n",
            "\u001b[0;31mKeyboardInterrupt\u001b[0m: "
          ]
        }
      ],
      "source": [
        "df2[\"lyrics\"] = df2[\"track_name\"].apply(get_lyrics)"
      ]
    },
    {
      "cell_type": "code",
      "execution_count": null,
      "metadata": {
        "id": "cWBRV_Oeh6zh"
      },
      "outputs": [],
      "source": [
        "import requests\n",
        "from bs4 import BeautifulSoup\n",
        "\n",
        "def get_lyrics_scrape(track_name, artist=None):\n",
        "    query = f\"{track_name} lyrics site:genius.com\"\n",
        "    search_url = f\"https://www.google.com/search?q={query}\"\n",
        "    headers = {\n",
        "        \"User-Agent\": \"Mozilla/5.0 (Windows NT 10.0; Win64; x64) \" +\n",
        "                      \"AppleWebKit/537.36 (KHTML, like Gecko) \" +\n",
        "                      \"Chrome/120.0.0.0 Safari/537.36\"\n",
        "    }\n",
        "\n",
        "    try:\n",
        "        search_resp = requests.get(search_url, headers=headers)\n",
        "        soup = BeautifulSoup(search_resp.text, \"html.parser\")\n",
        "        links = [a['href'] for a in soup.select(\"a\") if \"genius.com\" in a['href']]\n",
        "        if not links:\n",
        "            print(f\"No Genius link found for: {track_name}\")\n",
        "            return None\n",
        "\n",
        "        genius_url = links[0].split(\"&\")[0].replace(\"/url?q=\", \"\")\n",
        "        lyrics_page = requests.get(genius_url, headers=headers)\n",
        "        soup = BeautifulSoup(lyrics_page.text, \"html.parser\")\n",
        "        lyrics = soup.find(\"div\", class_=\"lyrics\")\n",
        "        if not lyrics:\n",
        "            lyrics = soup.find_all(\"div\", class_=re.compile(\"^Lyrics__Container\"))\n",
        "            lyrics_text = \"\\n\".join([l.get_text(separator=\"\\n\") for l in lyrics])\n",
        "        else:\n",
        "            lyrics_text = lyrics.get_text(separator=\"\\n\")\n",
        "\n",
        "        print(f\"Lyrics found for: {track_name}\")\n",
        "        return lyrics_text.strip()\n",
        "\n",
        "    except Exception as e:\n",
        "        print(f\"Error fetching lyrics for {track_name}: {e}\")\n",
        "        return None\n"
      ]
    },
    {
      "cell_type": "code",
      "execution_count": null,
      "metadata": {
        "colab": {
          "base_uri": "https://localhost:8080/"
        },
        "id": "KZlMGPf4h9lI",
        "outputId": "acf197f8-78dc-4667-c91d-6829b365d21f"
      },
      "outputs": [],
      "source": [
        "df2[\"lyrics\"] = df2[\"track_name\"].apply(get_lyrics_scrape)\n"
      ]
    },
    {
      "cell_type": "code",
      "execution_count": null,
      "metadata": {
        "colab": {
          "base_uri": "https://localhost:8080/"
        },
        "id": "uk8PHCdiiALZ",
        "outputId": "b7b555c5-a049-44cf-ac9a-bd396d24ada2"
      },
      "outputs": [],
      "source": [
        "pip install genius-lyrics\n"
      ]
    },
    {
      "cell_type": "code",
      "execution_count": null,
      "metadata": {
        "colab": {
          "base_uri": "https://localhost:8080/",
          "height": 537
        },
        "id": "FJc2KAtCiee3",
        "outputId": "2709022d-395c-46a7-cce6-957500a9086d"
      },
      "outputs": [],
      "source": [
        "from lyricsgenius import Genius\n",
        "genius = Genius(\"hx59ID6rCaaNkTEsf7nJDCdD4a2AmnK5N1MMllH8nJ3NSTu7p4tqD7lA9nH48ZBy\", skip_non_songs=True, remove_section_headers=True)\n",
        "\n",
        "song = genius.search_song(\"This Land Is Your Land\", \"Woody Guthrie\")\n",
        "print(song.lyrics)\n"
      ]
    },
    {
      "cell_type": "code",
      "execution_count": null,
      "metadata": {
        "colab": {
          "base_uri": "https://localhost:8080/",
          "height": 503
        },
        "id": "uLJSi9kyvM-s",
        "outputId": "418da147-1118-4284-d6b8-04cb3ebcd253"
      },
      "outputs": [],
      "source": [
        "from lyricsgenius import PublicAPI\n",
        "song_id = 1  # the song you want tags for\n",
        "public_api = PublicAPI()\n",
        "song = public_api.song(song_id)['song']\n",
        "print(song['tags'])"
      ]
    }
  ],
  "metadata": {
    "colab": {
      "provenance": []
    },
    "kernelspec": {
      "display_name": "myenv",
      "language": "python",
      "name": "python3"
    },
    "language_info": {
      "codemirror_mode": {
        "name": "ipython",
        "version": 3
      },
      "file_extension": ".py",
      "mimetype": "text/x-python",
      "name": "python",
      "nbconvert_exporter": "python",
      "pygments_lexer": "ipython3",
      "version": "3.9.6"
    }
  },
  "nbformat": 4,
  "nbformat_minor": 0
}
